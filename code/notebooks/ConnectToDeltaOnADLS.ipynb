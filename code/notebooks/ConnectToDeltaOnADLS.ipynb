{
 "cells": [
  {
   "cell_type": "markdown",
   "metadata": {
    "application/vnd.databricks.v1+cell": {
     "cellMetadata": {},
     "inputWidgets": {},
     "nuid": "28589033-9516-4f79-ab21-4149964e7e23",
     "showTitle": false,
     "title": ""
    }
   },
   "source": [
    "https://learn.microsoft.com/en-us/azure/open-datasets/dataset-diabetes?tabs=pyspark\n",
    "\n",
    "https://learn.microsoft.com/en-us/azure/databricks/storage/azure-storage\n",
    "\n",
    "https://github.com/DataSnowman/Azure-DataFactory/blob/main/SamplesV2/ChangeDataCapture/usecases/cdc/code/notebooks/autoloadersp.ipynb"
   ]
  },
  {
   "cell_type": "code",
   "execution_count": 0,
   "metadata": {
    "application/vnd.databricks.v1+cell": {
     "cellMetadata": {},
     "inputWidgets": {},
     "nuid": "3e3f6d25-ad28-41d2-a440-67b22c239410",
     "showTitle": false,
     "title": ""
    }
   },
   "outputs": [],
   "source": [
    "adlsAccountName = \"cdcacceleredfkdd3zynq6k\"\n",
    "sourceAdlsContainerName = \"bronze\"\n",
    "sinkAdlsContainerName = \"silver\"\n",
    "sourceAdlsFolderName = \"diabetes\"\n",
    "sinkAdlsFolderName = \"deltalake\""
   ]
  }
 ],
 "metadata": {
  "application/vnd.databricks.v1+notebook": {
   "dashboards": [],
   "language": "python",
   "notebookMetadata": {
    "pythonIndentUnit": 4
   },
   "notebookName": "ConnectToDeltaOnADLS",
   "notebookOrigID": 3523473031930,
   "widgets": {}
  }
 },
 "nbformat": 4,
 "nbformat_minor": 0
}
